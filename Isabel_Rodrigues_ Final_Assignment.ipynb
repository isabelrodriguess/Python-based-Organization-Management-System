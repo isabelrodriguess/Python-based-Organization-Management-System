{
 "cells": [
  {
   "cell_type": "raw",
   "id": "bdc0f147-650f-4128-a644-9acc2fbd22bc",
   "metadata": {},
   "source": [
    "Python-based Organization Management System that allows users to manage staff records in a COMPANY scenario.\n",
    "The system will \n",
    "* Display a Menu and the user will be able to pick something from\n",
    "* The system will display staff information\n",
    "* The user will be able to see the information, search, modify, add and delete.\n",
    "* The user will be able to go back to menu or exit the system "
   ]
  },
  {
   "cell_type": "code",
   "execution_count": 200,
   "id": "c63761c3-1523-4de8-928a-9f9ac7c3f419",
   "metadata": {},
   "outputs": [],
   "source": [
    "# First create a Menu to give the the users options they can choose from.\n",
    "# Create a function to display the Menu."
   ]
  },
  {
   "cell_type": "code",
   "execution_count": 201,
   "id": "bd94bf31-67dc-4712-85e5-4cb5e531a8ed",
   "metadata": {},
   "outputs": [],
   "source": [
    "def displayMenu(): # Create a function.\n",
    "    \"\"\"This function shows to the user the menu options\"\"\" # Explaning what the function does.\n",
    "    print(\"\"\" \n",
    "    --------Company Staff Management System ------------\n",
    "    Select an option:\n",
    "    1. Display all staff information\n",
    "    2. Modify staff department\n",
    "    3. Search staff by name\n",
    "    4. Add staff\n",
    "    5. Delete staff\n",
    "    6. Return to the menu\n",
    "    7. Exit\n",
    "    \"\"\")\n",
    "    # Print the options for the Menu.\n",
    "    "
   ]
  },
  {
   "cell_type": "code",
   "execution_count": 202,
   "id": "12e3608f-bb73-47ca-8169-cde04c2bdd07",
   "metadata": {},
   "outputs": [],
   "source": [
    "# Create a dictionary that can hold all the staff and their department.\n"
   ]
  },
  {
   "cell_type": "code",
   "execution_count": 203,
   "id": "6048b745-55ff-473c-884b-5c9a75095959",
   "metadata": {},
   "outputs": [],
   "source": [
    "staff_list = [\n",
    "    {\"Name\": \"Isabel\", \"Department\": \"IT\"},\n",
    "    {\"Name\": \"Isac\", \"Department\": \"Finance & Accounting\"},\n",
    "    {\"Name\": \"Kelly\", \"Department\": \"Marketing\"},\n",
    "    {\"Name\": \"Mark\", \"Department\": \"HR\"},\n",
    "    {\"Name\": \"Rebecca\", \"Department\": \"Sales\"},\n",
    "    {\"Name\": \"Lois\", \"Department\": \"Marketing\"} ]\n",
    "\n",
    "# The staff list will be the variable to work with, update, add, delete. \n"
   ]
  },
  {
   "cell_type": "code",
   "execution_count": 204,
   "id": "5074aec1-4874-4c8a-ad6a-033384c902ac",
   "metadata": {},
   "outputs": [],
   "source": [
    " # Create function to display staff information. "
   ]
  },
  {
   "cell_type": "code",
   "execution_count": 205,
   "id": "df48f507-efe4-48f0-801d-b8b9b08faed5",
   "metadata": {},
   "outputs": [],
   "source": [
    "from tabulate import tabulate # Import the tabulate library to create a table for staff information."
   ]
  },
  {
   "cell_type": "code",
   "execution_count": 206,
   "id": "42f49bf8-484c-4992-9293-204403968596",
   "metadata": {},
   "outputs": [],
   "source": [
    "def staff_info(staff_list): # Create the function.\n",
    "    \"\"\"This function shows the staff and their department\"\"\" # Explaning what the function does.\n",
    "    print(\"STAFF INFORMATION\")\n",
    "    if len(staff_list) == 0:  # Check if the staff list is empty and print no staff in case the condition is true.\n",
    "        print(\"No Staff information\")\n",
    "    else: # In case the list is not empty the sytem will display staff information\n",
    "        headers = [\"Name\", \"Department\"] # Creating a header for the table\n",
    "        table = [[staff['Name'], staff['Department']] for staff in staff_list] # Create the table\n",
    "        print(tabulate(table,headers, tablefmt=\"github\")) # Print the table \n",
    "\n"
   ]
  },
  {
   "cell_type": "code",
   "execution_count": 207,
   "id": "6d34fa14-aea1-477e-8ead-9cd2be672bea",
   "metadata": {},
   "outputs": [
    {
     "name": "stdout",
     "output_type": "stream",
     "text": [
      "STAFF INFORMATION\n",
      "| Name    | Department           |\n",
      "|---------|----------------------|\n",
      "| Isabel  | IT                   |\n",
      "| Isac    | Finance & Accounting |\n",
      "| Kelly   | Marketing            |\n",
      "| Mark    | HR                   |\n",
      "| Rebecca | Sales                |\n",
      "| Lois    | Marketing            |\n"
     ]
    }
   ],
   "source": [
    "staff_info(staff_list) # Checking table "
   ]
  },
  {
   "cell_type": "code",
   "execution_count": 208,
   "id": "45da5d56-317d-4c7a-9647-3db4f4070fd9",
   "metadata": {},
   "outputs": [],
   "source": [
    "# Creating a function to allow the user to modify staff department."
   ]
  },
  {
   "cell_type": "code",
   "execution_count": null,
   "id": "df109fbb-9b0b-4827-9038-701273a9829c",
   "metadata": {},
   "outputs": [],
   "source": []
  },
  {
   "cell_type": "code",
   "execution_count": 209,
   "id": "5de78ad8-c01b-4575-be67-56cdb8350483",
   "metadata": {},
   "outputs": [],
   "source": [
    "def Modify_staff_departments(staff_list): # Create function.\n",
    "    \"\"\"This function allows the user to update the staff's department\"\"\" # Explain what funnction does.\n",
    "    try: # try block\n",
    "        name = input(\"Please enter the Staff Name to update the Department: \\n\"\n",
    "             \"(type 'back' to return):\").strip().lower() # Catch user input, handle space and sensitive case issue.\n",
    "        if name == \"back\": # In case the user wants to quit function and go back to menu\n",
    "            return\n",
    "\n",
    "        if not name:  # Check if the input is empty.\n",
    "            raise ValueError(\"Name cannot be empty.\")  # Raise an error if the name is empty.\n",
    "            \n",
    "        if name.isdigit():  # Check if the input is a number.\n",
    "            raise ValueError(\"Name cannot be a number.\") # Raise value error.\n",
    "            \n",
    "        for staff in staff_list: # Loop to go through staff list.\n",
    "            if staff['Name'].lower() == name: # Check if there is name (user input) in staff list if so,\n",
    "                new_department = input(\"Please enter the new staff department\") # Create new variable to hold new department for the staff.\n",
    "                staff['Department'] = new_department # Repalce it \n",
    "                print(f\" The Department of the staff called {name} was Modify to {new_department}.\") # Print the modification.\n",
    "                return \n",
    "        print(f\" There is no Staff called {name}\") # In case there is the name is not on staff list , this message pops up.\n",
    "        \n",
    "    except ValueError as e:\n",
    "        print(f\"ERROR: {e}\")  # Handle invalid names or empty inputs.\n",
    "    except Exception as e:\n",
    "        print(\"Error: Please enter a valid name\") # This execption will hanle issues in case the input in not valid, so the program will not crash.\n",
    "    \n",
    "    "
   ]
  },
  {
   "cell_type": "code",
   "execution_count": 210,
   "id": "245e04b5-0c12-4af5-bfd6-c50e4c1c9992",
   "metadata": {},
   "outputs": [],
   "source": [
    "# Next step, create a function so user input a name and search for them on the list."
   ]
  },
  {
   "cell_type": "code",
   "execution_count": 211,
   "id": "fbe719b2-565d-48df-aa24-d33c8145db22",
   "metadata": {},
   "outputs": [],
   "source": [
    "def Search_staff(staff_list): # Create the function.\n",
    "    \"\"\" This function allow user to search staff by name \"\"\" # Explain what funtion does. \n",
    "    try:\n",
    "        name = input(\"Please enter the Staff Name: \\n\"\n",
    "             \"(type 'back' to return):\").strip().lower() # Ask user to enter a name to search for, hold input in a variable.\n",
    "        if name == \"back\": # In case the user wants to quit function and go back to menu.\n",
    "            return\n",
    "\n",
    "        if not name:  # Check if the input is empty.\n",
    "            raise ValueError(\"Name cannot be empty.\")  # Raise an error if the name is empty.\n",
    "            \n",
    "        if name.isdigit():  # Check if the inpur is a number.\n",
    "            raise ValueError(\"Name cannot be a number.\") # Raise value error.\n",
    "            \n",
    "        for staff in staff_list: # Create a loop to go through the staff list.\n",
    "            if staff['Name'].lower() == name: # If the name input bu user is on the list, print name and department.\n",
    "                print(f\"Name: {staff['Name']}, Department: {staff['Department']}\") \n",
    "                return\n",
    "        print(\"There is no staff by this name\") # In case there is no staff on the list with the name that user provided this message deplays.\n",
    "        \n",
    "    except ValueError as e:\n",
    "        print(f\"ERROR: {e}\")  # Handle invalid names or empty inputs.   \n",
    "    except Exception as e:\n",
    "        print(f\"An error occurred: {e}\") # This execption will hanle issues in case the input in not valid, so the program will not crash.\n",
    " "
   ]
  },
  {
   "cell_type": "code",
   "execution_count": 212,
   "id": "059e05a6-2b4f-42cb-9e52-9b905e33f449",
   "metadata": {},
   "outputs": [],
   "source": [
    "# Create a function so user can add staff to the list."
   ]
  },
  {
   "cell_type": "code",
   "execution_count": 213,
   "id": "2c2997b4-970e-480e-93a0-303470928c12",
   "metadata": {},
   "outputs": [],
   "source": [
    "def Add_staff(staff_list): # Create function\n",
    "    \"\"\" This function allows user to add a staff\"\"\" # Explain what function does.\n",
    "    try: # try block\n",
    "        new_staff_name = input(\"Please enter the new staff name \\n\"\n",
    "        \"(type 'back' to return):\").strip() # Create a variable with user input for new name.\n",
    "        if new_staff_name.lower() == \"back\": # In case the user wants to quit function and go back to menu.\n",
    "            return\n",
    "\n",
    "        if not new_staff_name: # Check if the input is empty.\n",
    "            raise ValueError(\"Name cannot be empty.\") # Raise an error if the name is empty.\n",
    "     \n",
    "        if new_staff_name.isdigit():  # Check if the input is a number\n",
    "            raise ValueError(\"Name cannot be a number.\") # Raise value error\n",
    "            \n",
    "        new_staff_department = input(\"Please enter the staff department\").strip() # Create a variable with user input for new department\n",
    "        \n",
    "        if not new_staff_department: # Check if the input is empty.\n",
    "            raise ValueError(\"Name cannot be empty.\") # Raise an error if the name is empty.\n",
    "            \n",
    "        if new_staff_department.isdigit():  # Check if the input is a number.\n",
    "            raise ValueError(\"Name cannot be a number.\") # Raise value error.\n",
    "       \n",
    "        new_staff = {            # Create a dictionary with the two varibles.\n",
    "            \"Name\": new_staff_name,\n",
    "            \"Department\": new_staff_department\n",
    "        }\n",
    "        staff_list.append(new_staff) # Add the new dictionary to the old one (staff list).\n",
    "        print(f\"Staff {new_staff_name} was added to staff members\") # Print that the new staff was added to the staff list. \n",
    "        \n",
    "    except ValueError as e:\n",
    "        print(f\"ERROR: {e}\")  # Handle invalid names or empty inputs.\n",
    "    except Exception as e:\n",
    "        print(f\"Error: Please enter a valid name\") # This execption will hanle issues in case the input in not valid, so the program will not crash.\n",
    "    \n"
   ]
  },
  {
   "cell_type": "code",
   "execution_count": 214,
   "id": "dda2f761-c341-4224-8557-9fbf7379cc7c",
   "metadata": {},
   "outputs": [],
   "source": [
    "# Create a function so user can delete staff."
   ]
  },
  {
   "cell_type": "code",
   "execution_count": 215,
   "id": "e9a0950c-f49c-4783-95c5-6b7cfc2d1b0d",
   "metadata": {},
   "outputs": [],
   "source": [
    "def Delete_staff(staff_list): # Create function.\n",
    "    \"\"\" This Function allows user to delete a staff \"\"\" # Explain what the function does. \n",
    "    try:\n",
    "        name = input(\"Please enter the name of the staff you want to delete: \\n\"\n",
    "             \"(type 'back' to return):\").strip().lower() # take user input.\n",
    "        if name == \"back\": # In case the user wants to quit function and go back to menu.\n",
    "            return\n",
    "\n",
    "        if not name:  # Check if the input is empty.\n",
    "            raise ValueError(\"Name cannot be empty.\")  # Raise an error if the name is empty.\n",
    "            \n",
    "        if name.isdigit():  # Check if the input is a number.\n",
    "            raise ValueError(\"Name cannot be a number.\") # Raise value error.\n",
    "            \n",
    "        for staff in staff_list: # Create a loop to through  the list.\n",
    "            if staff['Name'].lower() == name: # If user input is found on the list.\n",
    "                staff_list.remove(staff) # The name input by user will be removed.\n",
    "                print(f\" The staff {name} was delete from staff list\") #  It will print the message. \n",
    "                return\n",
    "        print(f\"There is NO staff named {name}\") # In case there is no staff name given by the user this will display.\n",
    "        \n",
    "    except ValueError as e:\n",
    "        print(f\"ERROR: {e}\")  # Handle invalid names or empty inputs.\n",
    "    except Exception as e:\n",
    "        print(\"ERROR: Please enter a valid name\") # This execption will hanle issues in case the input in not valid, so the program will not crash.\n",
    "            "
   ]
  },
  {
   "cell_type": "code",
   "execution_count": 216,
   "id": "6056a900-5ed0-4ad4-ba68-851dbcf4a0e8",
   "metadata": {},
   "outputs": [],
   "source": [
    "# Create a function to start the system \n",
    "# The user will pick a option and will be able to interact with the system"
   ]
  },
  {
   "cell_type": "code",
   "execution_count": 217,
   "id": "38c4c4ba-2631-4dbc-917b-8bdea7ced934",
   "metadata": {},
   "outputs": [
    {
     "name": "stdout",
     "output_type": "stream",
     "text": [
      " \n",
      "    --------Company Staff Management System ------------\n",
      "    Select an option:\n",
      "    1. Display all staff information\n",
      "    2. Modify staff department\n",
      "    3. Search staff by name\n",
      "    4. Add staff\n",
      "    5. Delete staff\n",
      "    6. Return to the menu\n",
      "    7. Exit\n",
      "    \n"
     ]
    },
    {
     "name": "stdin",
     "output_type": "stream",
     "text": [
      "Please select an option from the Menu:  1\n"
     ]
    },
    {
     "name": "stdout",
     "output_type": "stream",
     "text": [
      " ----- Displaying Staff Information -----\n",
      "STAFF INFORMATION\n",
      "| Name    | Department           |\n",
      "|---------|----------------------|\n",
      "| Isabel  | IT                   |\n",
      "| Isac    | Finance & Accounting |\n",
      "| Kelly   | Marketing            |\n",
      "| Mark    | HR                   |\n",
      "| Rebecca | Sales                |\n",
      "| Lois    | Marketing            |\n",
      " \n",
      "    --------Company Staff Management System ------------\n",
      "    Select an option:\n",
      "    1. Display all staff information\n",
      "    2. Modify staff department\n",
      "    3. Search staff by name\n",
      "    4. Add staff\n",
      "    5. Delete staff\n",
      "    6. Return to the menu\n",
      "    7. Exit\n",
      "    \n"
     ]
    },
    {
     "name": "stdin",
     "output_type": "stream",
     "text": [
      "Please select an option from the Menu:  2\n"
     ]
    },
    {
     "name": "stdout",
     "output_type": "stream",
     "text": [
      "----- Modify Staff Department -----\n"
     ]
    },
    {
     "name": "stdin",
     "output_type": "stream",
     "text": [
      "Please enter the Staff Name to update the Department: \n",
      "(type 'back' to return): back\n"
     ]
    },
    {
     "name": "stdout",
     "output_type": "stream",
     "text": [
      " \n",
      "    --------Company Staff Management System ------------\n",
      "    Select an option:\n",
      "    1. Display all staff information\n",
      "    2. Modify staff department\n",
      "    3. Search staff by name\n",
      "    4. Add staff\n",
      "    5. Delete staff\n",
      "    6. Return to the menu\n",
      "    7. Exit\n",
      "    \n"
     ]
    },
    {
     "name": "stdin",
     "output_type": "stream",
     "text": [
      "Please select an option from the Menu:  2\n"
     ]
    },
    {
     "name": "stdout",
     "output_type": "stream",
     "text": [
      "----- Modify Staff Department -----\n"
     ]
    },
    {
     "name": "stdin",
     "output_type": "stream",
     "text": [
      "Please enter the Staff Name to update the Department: \n",
      "(type 'back' to return): 22\n"
     ]
    },
    {
     "name": "stdout",
     "output_type": "stream",
     "text": [
      "ERROR: Name cannot be a number.\n",
      " \n",
      "    --------Company Staff Management System ------------\n",
      "    Select an option:\n",
      "    1. Display all staff information\n",
      "    2. Modify staff department\n",
      "    3. Search staff by name\n",
      "    4. Add staff\n",
      "    5. Delete staff\n",
      "    6. Return to the menu\n",
      "    7. Exit\n",
      "    \n"
     ]
    },
    {
     "name": "stdin",
     "output_type": "stream",
     "text": [
      "Please select an option from the Menu:  2\n"
     ]
    },
    {
     "name": "stdout",
     "output_type": "stream",
     "text": [
      "----- Modify Staff Department -----\n"
     ]
    },
    {
     "name": "stdin",
     "output_type": "stream",
     "text": [
      "Please enter the Staff Name to update the Department: \n",
      "(type 'back' to return): \n"
     ]
    },
    {
     "name": "stdout",
     "output_type": "stream",
     "text": [
      "ERROR: Name cannot be empty.\n",
      " \n",
      "    --------Company Staff Management System ------------\n",
      "    Select an option:\n",
      "    1. Display all staff information\n",
      "    2. Modify staff department\n",
      "    3. Search staff by name\n",
      "    4. Add staff\n",
      "    5. Delete staff\n",
      "    6. Return to the menu\n",
      "    7. Exit\n",
      "    \n"
     ]
    },
    {
     "name": "stdin",
     "output_type": "stream",
     "text": [
      "Please select an option from the Menu:  2\n"
     ]
    },
    {
     "name": "stdout",
     "output_type": "stream",
     "text": [
      "----- Modify Staff Department -----\n"
     ]
    },
    {
     "name": "stdin",
     "output_type": "stream",
     "text": [
      "Please enter the Staff Name to update the Department: \n",
      "(type 'back' to return): luka\n"
     ]
    },
    {
     "name": "stdout",
     "output_type": "stream",
     "text": [
      " There is no Staff called luka\n",
      " \n",
      "    --------Company Staff Management System ------------\n",
      "    Select an option:\n",
      "    1. Display all staff information\n",
      "    2. Modify staff department\n",
      "    3. Search staff by name\n",
      "    4. Add staff\n",
      "    5. Delete staff\n",
      "    6. Return to the menu\n",
      "    7. Exit\n",
      "    \n"
     ]
    },
    {
     "name": "stdin",
     "output_type": "stream",
     "text": [
      "Please select an option from the Menu:  2\n"
     ]
    },
    {
     "name": "stdout",
     "output_type": "stream",
     "text": [
      "----- Modify Staff Department -----\n"
     ]
    },
    {
     "name": "stdin",
     "output_type": "stream",
     "text": [
      "Please enter the Staff Name to update the Department: \n",
      "(type 'back' to return): isabel\n",
      "Please enter the new staff department Sales\n"
     ]
    },
    {
     "name": "stdout",
     "output_type": "stream",
     "text": [
      " The Department of the staff called isabel was Modify to Sales.\n",
      " \n",
      "    --------Company Staff Management System ------------\n",
      "    Select an option:\n",
      "    1. Display all staff information\n",
      "    2. Modify staff department\n",
      "    3. Search staff by name\n",
      "    4. Add staff\n",
      "    5. Delete staff\n",
      "    6. Return to the menu\n",
      "    7. Exit\n",
      "    \n"
     ]
    },
    {
     "name": "stdin",
     "output_type": "stream",
     "text": [
      "Please select an option from the Menu:  1\n"
     ]
    },
    {
     "name": "stdout",
     "output_type": "stream",
     "text": [
      " ----- Displaying Staff Information -----\n",
      "STAFF INFORMATION\n",
      "| Name    | Department           |\n",
      "|---------|----------------------|\n",
      "| Isabel  | Sales                |\n",
      "| Isac    | Finance & Accounting |\n",
      "| Kelly   | Marketing            |\n",
      "| Mark    | HR                   |\n",
      "| Rebecca | Sales                |\n",
      "| Lois    | Marketing            |\n",
      " \n",
      "    --------Company Staff Management System ------------\n",
      "    Select an option:\n",
      "    1. Display all staff information\n",
      "    2. Modify staff department\n",
      "    3. Search staff by name\n",
      "    4. Add staff\n",
      "    5. Delete staff\n",
      "    6. Return to the menu\n",
      "    7. Exit\n",
      "    \n"
     ]
    },
    {
     "name": "stdin",
     "output_type": "stream",
     "text": [
      "Please select an option from the Menu:  3\n"
     ]
    },
    {
     "name": "stdout",
     "output_type": "stream",
     "text": [
      " --- Search Staff by Name function ---\n"
     ]
    },
    {
     "name": "stdin",
     "output_type": "stream",
     "text": [
      "Please enter the Staff Name: \n",
      "(type 'back' to return): back\n"
     ]
    },
    {
     "name": "stdout",
     "output_type": "stream",
     "text": [
      " \n",
      "    --------Company Staff Management System ------------\n",
      "    Select an option:\n",
      "    1. Display all staff information\n",
      "    2. Modify staff department\n",
      "    3. Search staff by name\n",
      "    4. Add staff\n",
      "    5. Delete staff\n",
      "    6. Return to the menu\n",
      "    7. Exit\n",
      "    \n"
     ]
    },
    {
     "name": "stdin",
     "output_type": "stream",
     "text": [
      "Please select an option from the Menu:  3\n"
     ]
    },
    {
     "name": "stdout",
     "output_type": "stream",
     "text": [
      " --- Search Staff by Name function ---\n"
     ]
    },
    {
     "name": "stdin",
     "output_type": "stream",
     "text": [
      "Please enter the Staff Name: \n",
      "(type 'back' to return): luka\n"
     ]
    },
    {
     "name": "stdout",
     "output_type": "stream",
     "text": [
      "There is no staff by this name\n",
      " \n",
      "    --------Company Staff Management System ------------\n",
      "    Select an option:\n",
      "    1. Display all staff information\n",
      "    2. Modify staff department\n",
      "    3. Search staff by name\n",
      "    4. Add staff\n",
      "    5. Delete staff\n",
      "    6. Return to the menu\n",
      "    7. Exit\n",
      "    \n"
     ]
    },
    {
     "name": "stdin",
     "output_type": "stream",
     "text": [
      "Please select an option from the Menu:  3\n"
     ]
    },
    {
     "name": "stdout",
     "output_type": "stream",
     "text": [
      " --- Search Staff by Name function ---\n"
     ]
    },
    {
     "name": "stdin",
     "output_type": "stream",
     "text": [
      "Please enter the Staff Name: \n",
      "(type 'back' to return): \n"
     ]
    },
    {
     "name": "stdout",
     "output_type": "stream",
     "text": [
      "ERROR: Name cannot be empty.\n",
      " \n",
      "    --------Company Staff Management System ------------\n",
      "    Select an option:\n",
      "    1. Display all staff information\n",
      "    2. Modify staff department\n",
      "    3. Search staff by name\n",
      "    4. Add staff\n",
      "    5. Delete staff\n",
      "    6. Return to the menu\n",
      "    7. Exit\n",
      "    \n"
     ]
    },
    {
     "name": "stdin",
     "output_type": "stream",
     "text": [
      "Please select an option from the Menu:  3\n"
     ]
    },
    {
     "name": "stdout",
     "output_type": "stream",
     "text": [
      " --- Search Staff by Name function ---\n"
     ]
    },
    {
     "name": "stdin",
     "output_type": "stream",
     "text": [
      "Please enter the Staff Name: \n",
      "(type 'back' to return): 33\n"
     ]
    },
    {
     "name": "stdout",
     "output_type": "stream",
     "text": [
      "ERROR: Name cannot be a number.\n",
      " \n",
      "    --------Company Staff Management System ------------\n",
      "    Select an option:\n",
      "    1. Display all staff information\n",
      "    2. Modify staff department\n",
      "    3. Search staff by name\n",
      "    4. Add staff\n",
      "    5. Delete staff\n",
      "    6. Return to the menu\n",
      "    7. Exit\n",
      "    \n"
     ]
    },
    {
     "name": "stdin",
     "output_type": "stream",
     "text": [
      "Please select an option from the Menu:  3\n"
     ]
    },
    {
     "name": "stdout",
     "output_type": "stream",
     "text": [
      " --- Search Staff by Name function ---\n"
     ]
    },
    {
     "name": "stdin",
     "output_type": "stream",
     "text": [
      "Please enter the Staff Name: \n",
      "(type 'back' to return): isabel\n"
     ]
    },
    {
     "name": "stdout",
     "output_type": "stream",
     "text": [
      "Name: Isabel, Department: Sales\n",
      " \n",
      "    --------Company Staff Management System ------------\n",
      "    Select an option:\n",
      "    1. Display all staff information\n",
      "    2. Modify staff department\n",
      "    3. Search staff by name\n",
      "    4. Add staff\n",
      "    5. Delete staff\n",
      "    6. Return to the menu\n",
      "    7. Exit\n",
      "    \n"
     ]
    },
    {
     "name": "stdin",
     "output_type": "stream",
     "text": [
      "Please select an option from the Menu:  4\n"
     ]
    },
    {
     "name": "stdout",
     "output_type": "stream",
     "text": [
      " ----- Add staff -----\n"
     ]
    },
    {
     "name": "stdin",
     "output_type": "stream",
     "text": [
      "Please enter the new staff name \n",
      "(type 'back' to return): back\n"
     ]
    },
    {
     "name": "stdout",
     "output_type": "stream",
     "text": [
      " \n",
      "    --------Company Staff Management System ------------\n",
      "    Select an option:\n",
      "    1. Display all staff information\n",
      "    2. Modify staff department\n",
      "    3. Search staff by name\n",
      "    4. Add staff\n",
      "    5. Delete staff\n",
      "    6. Return to the menu\n",
      "    7. Exit\n",
      "    \n"
     ]
    },
    {
     "name": "stdin",
     "output_type": "stream",
     "text": [
      "Please select an option from the Menu:  4\n"
     ]
    },
    {
     "name": "stdout",
     "output_type": "stream",
     "text": [
      " ----- Add staff -----\n"
     ]
    },
    {
     "name": "stdin",
     "output_type": "stream",
     "text": [
      "Please enter the new staff name \n",
      "(type 'back' to return): \n"
     ]
    },
    {
     "name": "stdout",
     "output_type": "stream",
     "text": [
      "ERROR: Name cannot be empty.\n",
      " \n",
      "    --------Company Staff Management System ------------\n",
      "    Select an option:\n",
      "    1. Display all staff information\n",
      "    2. Modify staff department\n",
      "    3. Search staff by name\n",
      "    4. Add staff\n",
      "    5. Delete staff\n",
      "    6. Return to the menu\n",
      "    7. Exit\n",
      "    \n"
     ]
    },
    {
     "name": "stdin",
     "output_type": "stream",
     "text": [
      "Please select an option from the Menu:  4\n"
     ]
    },
    {
     "name": "stdout",
     "output_type": "stream",
     "text": [
      " ----- Add staff -----\n"
     ]
    },
    {
     "name": "stdin",
     "output_type": "stream",
     "text": [
      "Please enter the new staff name \n",
      "(type 'back' to return): 444\n"
     ]
    },
    {
     "name": "stdout",
     "output_type": "stream",
     "text": [
      "ERROR: Name cannot be a number.\n",
      " \n",
      "    --------Company Staff Management System ------------\n",
      "    Select an option:\n",
      "    1. Display all staff information\n",
      "    2. Modify staff department\n",
      "    3. Search staff by name\n",
      "    4. Add staff\n",
      "    5. Delete staff\n",
      "    6. Return to the menu\n",
      "    7. Exit\n",
      "    \n"
     ]
    },
    {
     "name": "stdin",
     "output_type": "stream",
     "text": [
      "Please select an option from the Menu:  4\n"
     ]
    },
    {
     "name": "stdout",
     "output_type": "stream",
     "text": [
      " ----- Add staff -----\n"
     ]
    },
    {
     "name": "stdin",
     "output_type": "stream",
     "text": [
      "Please enter the new staff name \n",
      "(type 'back' to return): Luca\n",
      "Please enter the staff department IT\n"
     ]
    },
    {
     "name": "stdout",
     "output_type": "stream",
     "text": [
      "Staff Luca was added to staff members\n",
      " \n",
      "    --------Company Staff Management System ------------\n",
      "    Select an option:\n",
      "    1. Display all staff information\n",
      "    2. Modify staff department\n",
      "    3. Search staff by name\n",
      "    4. Add staff\n",
      "    5. Delete staff\n",
      "    6. Return to the menu\n",
      "    7. Exit\n",
      "    \n"
     ]
    },
    {
     "name": "stdin",
     "output_type": "stream",
     "text": [
      "Please select an option from the Menu:  1\n"
     ]
    },
    {
     "name": "stdout",
     "output_type": "stream",
     "text": [
      " ----- Displaying Staff Information -----\n",
      "STAFF INFORMATION\n",
      "| Name    | Department           |\n",
      "|---------|----------------------|\n",
      "| Isabel  | Sales                |\n",
      "| Isac    | Finance & Accounting |\n",
      "| Kelly   | Marketing            |\n",
      "| Mark    | HR                   |\n",
      "| Rebecca | Sales                |\n",
      "| Lois    | Marketing            |\n",
      "| Luca    | IT                   |\n",
      " \n",
      "    --------Company Staff Management System ------------\n",
      "    Select an option:\n",
      "    1. Display all staff information\n",
      "    2. Modify staff department\n",
      "    3. Search staff by name\n",
      "    4. Add staff\n",
      "    5. Delete staff\n",
      "    6. Return to the menu\n",
      "    7. Exit\n",
      "    \n"
     ]
    },
    {
     "name": "stdin",
     "output_type": "stream",
     "text": [
      "Please select an option from the Menu:  5\n"
     ]
    },
    {
     "name": "stdout",
     "output_type": "stream",
     "text": [
      " ----- Delete staff -----\n"
     ]
    },
    {
     "name": "stdin",
     "output_type": "stream",
     "text": [
      "Please enter the name of the staff you want to delete: \n",
      "(type 'back' to return): back\n"
     ]
    },
    {
     "name": "stdout",
     "output_type": "stream",
     "text": [
      " \n",
      "    --------Company Staff Management System ------------\n",
      "    Select an option:\n",
      "    1. Display all staff information\n",
      "    2. Modify staff department\n",
      "    3. Search staff by name\n",
      "    4. Add staff\n",
      "    5. Delete staff\n",
      "    6. Return to the menu\n",
      "    7. Exit\n",
      "    \n"
     ]
    },
    {
     "name": "stdin",
     "output_type": "stream",
     "text": [
      "Please select an option from the Menu:  5\n"
     ]
    },
    {
     "name": "stdout",
     "output_type": "stream",
     "text": [
      " ----- Delete staff -----\n"
     ]
    },
    {
     "name": "stdin",
     "output_type": "stream",
     "text": [
      "Please enter the name of the staff you want to delete: \n",
      "(type 'back' to return): 33\n"
     ]
    },
    {
     "name": "stdout",
     "output_type": "stream",
     "text": [
      "ERROR: Name cannot be a number.\n",
      " \n",
      "    --------Company Staff Management System ------------\n",
      "    Select an option:\n",
      "    1. Display all staff information\n",
      "    2. Modify staff department\n",
      "    3. Search staff by name\n",
      "    4. Add staff\n",
      "    5. Delete staff\n",
      "    6. Return to the menu\n",
      "    7. Exit\n",
      "    \n"
     ]
    },
    {
     "name": "stdin",
     "output_type": "stream",
     "text": [
      "Please select an option from the Menu:  5\n"
     ]
    },
    {
     "name": "stdout",
     "output_type": "stream",
     "text": [
      " ----- Delete staff -----\n"
     ]
    },
    {
     "name": "stdin",
     "output_type": "stream",
     "text": [
      "Please enter the name of the staff you want to delete: \n",
      "(type 'back' to return): \n"
     ]
    },
    {
     "name": "stdout",
     "output_type": "stream",
     "text": [
      "ERROR: Name cannot be empty.\n",
      " \n",
      "    --------Company Staff Management System ------------\n",
      "    Select an option:\n",
      "    1. Display all staff information\n",
      "    2. Modify staff department\n",
      "    3. Search staff by name\n",
      "    4. Add staff\n",
      "    5. Delete staff\n",
      "    6. Return to the menu\n",
      "    7. Exit\n",
      "    \n"
     ]
    },
    {
     "name": "stdin",
     "output_type": "stream",
     "text": [
      "Please select an option from the Menu:  5\n"
     ]
    },
    {
     "name": "stdout",
     "output_type": "stream",
     "text": [
      " ----- Delete staff -----\n"
     ]
    },
    {
     "name": "stdin",
     "output_type": "stream",
     "text": [
      "Please enter the name of the staff you want to delete: \n",
      "(type 'back' to return): Mike\n"
     ]
    },
    {
     "name": "stdout",
     "output_type": "stream",
     "text": [
      "There is NO staff named mike\n",
      " \n",
      "    --------Company Staff Management System ------------\n",
      "    Select an option:\n",
      "    1. Display all staff information\n",
      "    2. Modify staff department\n",
      "    3. Search staff by name\n",
      "    4. Add staff\n",
      "    5. Delete staff\n",
      "    6. Return to the menu\n",
      "    7. Exit\n",
      "    \n"
     ]
    },
    {
     "name": "stdin",
     "output_type": "stream",
     "text": [
      "Please select an option from the Menu:  5\n"
     ]
    },
    {
     "name": "stdout",
     "output_type": "stream",
     "text": [
      " ----- Delete staff -----\n"
     ]
    },
    {
     "name": "stdin",
     "output_type": "stream",
     "text": [
      "Please enter the name of the staff you want to delete: \n",
      "(type 'back' to return): luka\n"
     ]
    },
    {
     "name": "stdout",
     "output_type": "stream",
     "text": [
      "There is NO staff named luka\n",
      " \n",
      "    --------Company Staff Management System ------------\n",
      "    Select an option:\n",
      "    1. Display all staff information\n",
      "    2. Modify staff department\n",
      "    3. Search staff by name\n",
      "    4. Add staff\n",
      "    5. Delete staff\n",
      "    6. Return to the menu\n",
      "    7. Exit\n",
      "    \n"
     ]
    },
    {
     "name": "stdin",
     "output_type": "stream",
     "text": [
      "Please select an option from the Menu:  5\n"
     ]
    },
    {
     "name": "stdout",
     "output_type": "stream",
     "text": [
      " ----- Delete staff -----\n"
     ]
    },
    {
     "name": "stdin",
     "output_type": "stream",
     "text": [
      "Please enter the name of the staff you want to delete: \n",
      "(type 'back' to return): luca\n"
     ]
    },
    {
     "name": "stdout",
     "output_type": "stream",
     "text": [
      " The staff luca was delete from staff list\n",
      " \n",
      "    --------Company Staff Management System ------------\n",
      "    Select an option:\n",
      "    1. Display all staff information\n",
      "    2. Modify staff department\n",
      "    3. Search staff by name\n",
      "    4. Add staff\n",
      "    5. Delete staff\n",
      "    6. Return to the menu\n",
      "    7. Exit\n",
      "    \n"
     ]
    },
    {
     "name": "stdin",
     "output_type": "stream",
     "text": [
      "Please select an option from the Menu:  6\n"
     ]
    },
    {
     "name": "stdout",
     "output_type": "stream",
     "text": [
      " ----- BABK TO MENU -----\n",
      " \n",
      "    --------Company Staff Management System ------------\n",
      "    Select an option:\n",
      "    1. Display all staff information\n",
      "    2. Modify staff department\n",
      "    3. Search staff by name\n",
      "    4. Add staff\n",
      "    5. Delete staff\n",
      "    6. Return to the menu\n",
      "    7. Exit\n",
      "    \n"
     ]
    },
    {
     "name": "stdin",
     "output_type": "stream",
     "text": [
      "Please select an option from the Menu:  7\n"
     ]
    },
    {
     "name": "stdout",
     "output_type": "stream",
     "text": [
      "Exiting the system...\n"
     ]
    }
   ],
   "source": [
    "def start_system(staff_list): # Create a function.\n",
    "    \"\"\" This function starts the company management system and interact with the user by displaying the main menu and working with user inputs.\n",
    "    The system shows the main menu, where users can choose to:\n",
    "    1. Display all staff information\n",
    "    2. Modify staff department\n",
    "    3. Search for a staff member \n",
    "    4. Add a new staff member\n",
    "    5. Delete a staff member\n",
    "    6. Return to the menu\n",
    "    7. Exit the system\n",
    "    The program will continue running in a loop until the user chooses to exit.\n",
    "    Any invalid input will be handled with an error message and the menu will display again.\n",
    "    Args:\n",
    "    staff_list (list): A list of dictionaries containing staff information where each dictionary has 'Name' and 'Department' as keys.\n",
    "    Returns:\n",
    "    None: The function does not return any value. It continuously interacts with the user until the user opts to exit.\"\"\" # Documentation.\n",
    "    \n",
    "    while True: # Create a loop to the system keep running until the user exit.\n",
    "        displayMenu() # Keep displaying Menu until user choose Exit.\n",
    "\n",
    "        try:\n",
    "            user_input = int(input(\"Please select an option from the Menu: \").strip()) # Ask user to pick options from Menu.\n",
    "            \n",
    "            if user_input == 1: # Option to display menu in case the user selected 1.\n",
    "                print(\" ----- Displaying Staff Information -----\")\n",
    "                staff_info(staff_list)  # Call the function to display staff info.\n",
    "            elif user_input == 2: # Option to modify staff in case the user selected 2.\n",
    "                print(\"----- Modify Staff Department -----\")\n",
    "                Modify_staff_departments(staff_list) # Calling the function modify staff.\n",
    "            elif user_input == 3: # Option to Search Staff in case the user selected 3.\n",
    "                print(\" --- Search Staff by Name function ---\")\n",
    "                Search_staff(staff_list) # Calling the function for searching staff.\n",
    "            elif user_input == 4: # Option to Add a staff in case the user selected 4.\n",
    "                print(\" ----- Add staff -----\")\n",
    "                Add_staff(staff_list)  # Calling the function for adding staff.\n",
    "            elif user_input == 5: # Option to Delete staff in case the user selected 5.\n",
    "                print(\" ----- Delete staff -----\")  \n",
    "                Delete_staff(staff_list)  # Calling the function for deleting staff.\n",
    "            elif user_input == 6: # Option to go back to menu.\n",
    "                print(\" ----- BABK TO MENU -----\") \n",
    "                continue # The menu is already beeing display on the loop, no need to call the function again.\n",
    "            elif user_input == 7: # In case the user wants to exit the system.\n",
    "                print(\"Exiting the system...\")\n",
    "                break  # Exit the loop and end the program.\n",
    "            else:\n",
    "                print(\"Invalid option. Please select an option from 1 to 7.\") # Handle input that is not from 1 to 7.\n",
    "        except ValueError:\n",
    "            print(\"ERROR: Please enter a valid number from the MENU.\") # In case user input number outside the range 1 - 7 . \n",
    "        except Exception as e:\n",
    "            print(f\"Error {e}\") # # this execption will hanle issues in case the input in not valid, so the program will not crash.\n",
    "\n",
    "# Call the start_system function with the staff_list to run the system\n",
    "start_system(staff_list)"
   ]
  },
  {
   "cell_type": "code",
   "execution_count": 57,
   "id": "184bbb39-f96a-4d0e-ab71-3a10714117b1",
   "metadata": {},
   "outputs": [],
   "source": [
    "\n"
   ]
  },
  {
   "cell_type": "code",
   "execution_count": null,
   "id": "6e99ca77-15e4-4b5f-8dfb-d769fab36477",
   "metadata": {},
   "outputs": [],
   "source": []
  },
  {
   "cell_type": "code",
   "execution_count": null,
   "id": "2c3217ce-2885-4e0f-9e6e-f59e7b8b7087",
   "metadata": {},
   "outputs": [],
   "source": []
  }
 ],
 "metadata": {
  "kernelspec": {
   "display_name": "Python 3 (ipykernel)",
   "language": "python",
   "name": "python3"
  },
  "language_info": {
   "codemirror_mode": {
    "name": "ipython",
    "version": 3
   },
   "file_extension": ".py",
   "mimetype": "text/x-python",
   "name": "python",
   "nbconvert_exporter": "python",
   "pygments_lexer": "ipython3",
   "version": "3.12.4"
  }
 },
 "nbformat": 4,
 "nbformat_minor": 5
}
